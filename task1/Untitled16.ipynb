{
 "cells": [
  {
   "cell_type": "code",
   "execution_count": 1,
   "id": "c4462d6a-0912-4f90-a4b1-444006b0b52e",
   "metadata": {},
   "outputs": [],
   "source": [
    "import os\n",
    "import numpy as np\n",
    "import pandas as pd\n",
    "import matplotlib.pyplot as plt\n",
    "import seaborn as sns\n",
    "from PIL import Image\n",
    "import requests\n",
    "import zipfile\n",
    "from io import BytesIO\n",
    "import tarfile\n",
    "import tensorflow as tf\n",
    "from tensorflow.keras import layers,models,applications\n",
    "from tensorflow.keras.preprocessing.image import ImageDataGenerator\n",
    "from sklearn.model_selection import train_test_split\n",
    "from sklearn.metrics import classification_report, confusion_matrix"
   ]
  },
  {
   "cell_type": "code",
   "execution_count": 2,
   "id": "700a7b1a-0b81-40a3-8850-72dd53ec44f1",
   "metadata": {},
   "outputs": [],
   "source": [
    "import random\n",
    "np.random.seed(42)\n",
    "tf.random.set_seed(42)"
   ]
  },
  {
   "cell_type": "code",
   "execution_count": 3,
   "id": "7105c5a2-fe20-45cd-bfb8-c18ff4f0bec5",
   "metadata": {},
   "outputs": [],
   "source": [
    "#dataset_url=\"https://storage.googleapis.com/download.tensorflow.org/example_images/flower_photos.tgz\""
   ]
  },
  {
   "cell_type": "code",
   "execution_count": 4,
   "id": "1ca5dd04-a922-4649-9115-b9d944b34c9e",
   "metadata": {},
   "outputs": [],
   "source": [
    "#response = requests.get(dataset_url)"
   ]
  },
  {
   "cell_type": "code",
   "execution_count": 5,
   "id": "ae1ad100-4a84-4809-b77b-d3638b98a24e",
   "metadata": {},
   "outputs": [],
   "source": [
    "#file=tarfile.open(fileobj=BytesIO(response.content),mode=\"r:gz\")"
   ]
  },
  {
   "cell_type": "code",
   "execution_count": 6,
   "id": "2f74a4b2-8209-4b28-adde-5101d1defa0f",
   "metadata": {},
   "outputs": [],
   "source": [
    "#file"
   ]
  },
  {
   "cell_type": "code",
   "execution_count": 7,
   "id": "fb149343-b426-4302-b251-8b4e272c9ffa",
   "metadata": {},
   "outputs": [],
   "source": [
    "#file.extractall(\"data\")"
   ]
  },
  {
   "cell_type": "code",
   "execution_count": 8,
   "id": "ea220e8e-ce4d-470c-8b4e-de27e74a34a7",
   "metadata": {},
   "outputs": [],
   "source": [
    "train_datagen=ImageDataGenerator(\n",
    "    rescale=1./255,\n",
    "    rotation_range=20,\n",
    "    width_shift_range=0.2,\n",
    "    height_shift_range=0.2,\n",
    "    horizontal_flip=True,\n",
    "    validation_split=0.2\n",
    ")"
   ]
  },
  {
   "cell_type": "code",
   "execution_count": 9,
   "id": "2166a757-c7eb-4ad9-adee-31101a428419",
   "metadata": {},
   "outputs": [],
   "source": [
    "base_dir=\"data/flower_photos\""
   ]
  },
  {
   "cell_type": "code",
   "execution_count": 10,
   "id": "37bf5ff9-1ec5-4ab5-a17c-1ebbedcb459b",
   "metadata": {},
   "outputs": [
    {
     "name": "stdout",
     "output_type": "stream",
     "text": [
      "Found 2939 images belonging to 5 classes.\n"
     ]
    }
   ],
   "source": [
    "train_data_gen=train_datagen.flow_from_directory(base_dir,(224,224),batch_size=32,class_mode=\"categorical\",subset=\"training\")"
   ]
  },
  {
   "cell_type": "code",
   "execution_count": 11,
   "id": "faaf3d00-269b-4eab-8de2-b60db6bd937d",
   "metadata": {},
   "outputs": [
    {
     "name": "stdout",
     "output_type": "stream",
     "text": [
      "Found 732 images belonging to 5 classes.\n"
     ]
    }
   ],
   "source": [
    "validation_data_gen=train_datagen.flow_from_directory(base_dir,(224,224),batch_size=32,class_mode=\"categorical\",subset=\"validation\")"
   ]
  },
  {
   "cell_type": "code",
   "execution_count": 12,
   "id": "017421ed-17b8-4a74-87a6-0f9d0acd65dd",
   "metadata": {},
   "outputs": [],
   "source": [
    "#base_model=applications.EfficientNetB0(weights=\"imagenet\",input_shape=(224,224,3),include_top=False)"
   ]
  },
  {
   "cell_type": "code",
   "execution_count": 13,
   "id": "67e61d82-942f-459e-9f7e-182e0b4123a6",
   "metadata": {},
   "outputs": [],
   "source": [
    "#base_model.trainable=False"
   ]
  },
  {
   "cell_type": "code",
   "execution_count": 14,
   "id": "2dbddace-d332-4333-9bd1-972a14d63465",
   "metadata": {},
   "outputs": [],
   "source": [
    "model=models.Sequential([\n",
    "    base_model,\n",
    "    layers.GlobalAveragePooling2D(),\n",
    "    layers.Dropout(0.2),\n",
    "    layers.Dense(512,activation=\"relu\"),\n",
    "    layers.Dropout(0.2),\n",
    "    layers.Dense(5,activation=\"softmax\")\n",
    "])"
   ]
  },
  {
   "cell_type": "code",
   "execution_count": 15,
   "id": "92c6b2e6-0f86-4eec-9e38-7d7cbee4d84c",
   "metadata": {},
   "outputs": [],
   "source": [
    "model.compile(optimizer=\"adam\",loss=\"categorical_crossentropy\",metrics=[\"accuracy\"])"
   ]
  },
  {
   "cell_type": "code",
   "execution_count": 16,
   "id": "c8db7a4c-5325-4c76-baf9-9160e47e3286",
   "metadata": {},
   "outputs": [
    {
     "name": "stderr",
     "output_type": "stream",
     "text": [
      "C:\\Users\\mithu\\anaconda3\\Lib\\site-packages\\keras\\src\\trainers\\data_adapters\\py_dataset_adapter.py:121: UserWarning: Your `PyDataset` class should call `super().__init__(**kwargs)` in its constructor. `**kwargs` can include `workers`, `use_multiprocessing`, `max_queue_size`. Do not pass these arguments to `fit()`, as they will be ignored.\n",
      "  self._warn_if_super_not_called()\n"
     ]
    },
    {
     "name": "stdout",
     "output_type": "stream",
     "text": [
      "Epoch 1/20\n",
      "\u001b[1m92/92\u001b[0m \u001b[32m━━━━━━━━━━━━━━━━━━━━\u001b[0m\u001b[37m\u001b[0m \u001b[1m165s\u001b[0m 2s/step - accuracy: 0.2003 - loss: 1.6932 - val_accuracy: 0.2172 - val_loss: 1.6061\n",
      "Epoch 2/20\n",
      "\u001b[1m92/92\u001b[0m \u001b[32m━━━━━━━━━━━━━━━━━━━━\u001b[0m\u001b[37m\u001b[0m \u001b[1m145s\u001b[0m 2s/step - accuracy: 0.2329 - loss: 1.6095 - val_accuracy: 0.2445 - val_loss: 1.6042\n",
      "Epoch 3/20\n",
      "\u001b[1m92/92\u001b[0m \u001b[32m━━━━━━━━━━━━━━━━━━━━\u001b[0m\u001b[37m\u001b[0m \u001b[1m145s\u001b[0m 2s/step - accuracy: 0.2169 - loss: 1.6067 - val_accuracy: 0.2445 - val_loss: 1.6021\n",
      "Epoch 4/20\n",
      "\u001b[1m92/92\u001b[0m \u001b[32m━━━━━━━━━━━━━━━━━━━━\u001b[0m\u001b[37m\u001b[0m \u001b[1m375s\u001b[0m 4s/step - accuracy: 0.2660 - loss: 1.5950 - val_accuracy: 0.2445 - val_loss: 1.6022\n",
      "Epoch 5/20\n",
      "\u001b[1m92/92\u001b[0m \u001b[32m━━━━━━━━━━━━━━━━━━━━\u001b[0m\u001b[37m\u001b[0m \u001b[1m144s\u001b[0m 2s/step - accuracy: 0.2499 - loss: 1.6025 - val_accuracy: 0.2445 - val_loss: 1.6010\n",
      "Epoch 6/20\n",
      "\u001b[1m92/92\u001b[0m \u001b[32m━━━━━━━━━━━━━━━━━━━━\u001b[0m\u001b[37m\u001b[0m \u001b[1m163s\u001b[0m 2s/step - accuracy: 0.2306 - loss: 1.6037 - val_accuracy: 0.2445 - val_loss: 1.6004\n",
      "Epoch 7/20\n",
      "\u001b[1m92/92\u001b[0m \u001b[32m━━━━━━━━━━━━━━━━━━━━\u001b[0m\u001b[37m\u001b[0m \u001b[1m144s\u001b[0m 2s/step - accuracy: 0.2226 - loss: 1.6057 - val_accuracy: 0.2445 - val_loss: 1.6013\n",
      "Epoch 8/20\n",
      "\u001b[1m92/92\u001b[0m \u001b[32m━━━━━━━━━━━━━━━━━━━━\u001b[0m\u001b[37m\u001b[0m \u001b[1m145s\u001b[0m 2s/step - accuracy: 0.2510 - loss: 1.6052 - val_accuracy: 0.2445 - val_loss: 1.6032\n",
      "Epoch 9/20\n",
      "\u001b[1m92/92\u001b[0m \u001b[32m━━━━━━━━━━━━━━━━━━━━\u001b[0m\u001b[37m\u001b[0m \u001b[1m402s\u001b[0m 4s/step - accuracy: 0.2463 - loss: 1.6007 - val_accuracy: 0.2445 - val_loss: 1.6008\n",
      "Epoch 10/20\n",
      "\u001b[1m92/92\u001b[0m \u001b[32m━━━━━━━━━━━━━━━━━━━━\u001b[0m\u001b[37m\u001b[0m \u001b[1m143s\u001b[0m 2s/step - accuracy: 0.2300 - loss: 1.6048 - val_accuracy: 0.2445 - val_loss: 1.6002\n",
      "Epoch 11/20\n",
      "\u001b[1m92/92\u001b[0m \u001b[32m━━━━━━━━━━━━━━━━━━━━\u001b[0m\u001b[37m\u001b[0m \u001b[1m410s\u001b[0m 4s/step - accuracy: 0.2480 - loss: 1.5998 - val_accuracy: 0.2445 - val_loss: 1.6006\n",
      "Epoch 12/20\n",
      "\u001b[1m92/92\u001b[0m \u001b[32m━━━━━━━━━━━━━━━━━━━━\u001b[0m\u001b[37m\u001b[0m \u001b[1m143s\u001b[0m 2s/step - accuracy: 0.2588 - loss: 1.5987 - val_accuracy: 0.2445 - val_loss: 1.6004\n",
      "Epoch 13/20\n",
      "\u001b[1m92/92\u001b[0m \u001b[32m━━━━━━━━━━━━━━━━━━━━\u001b[0m\u001b[37m\u001b[0m \u001b[1m146s\u001b[0m 2s/step - accuracy: 0.2434 - loss: 1.5979 - val_accuracy: 0.2445 - val_loss: 1.6005\n",
      "Epoch 14/20\n",
      "\u001b[1m92/92\u001b[0m \u001b[32m━━━━━━━━━━━━━━━━━━━━\u001b[0m\u001b[37m\u001b[0m \u001b[1m201s\u001b[0m 2s/step - accuracy: 0.2506 - loss: 1.6016 - val_accuracy: 0.2445 - val_loss: 1.6003\n",
      "Epoch 15/20\n",
      "\u001b[1m92/92\u001b[0m \u001b[32m━━━━━━━━━━━━━━━━━━━━\u001b[0m\u001b[37m\u001b[0m \u001b[1m144s\u001b[0m 2s/step - accuracy: 0.2380 - loss: 1.6042 - val_accuracy: 0.2445 - val_loss: 1.6001\n",
      "Epoch 16/20\n",
      "\u001b[1m92/92\u001b[0m \u001b[32m━━━━━━━━━━━━━━━━━━━━\u001b[0m\u001b[37m\u001b[0m \u001b[1m254s\u001b[0m 3s/step - accuracy: 0.2512 - loss: 1.5982 - val_accuracy: 0.2445 - val_loss: 1.6004\n",
      "Epoch 17/20\n",
      "\u001b[1m92/92\u001b[0m \u001b[32m━━━━━━━━━━━━━━━━━━━━\u001b[0m\u001b[37m\u001b[0m \u001b[1m144s\u001b[0m 2s/step - accuracy: 0.2406 - loss: 1.6039 - val_accuracy: 0.2445 - val_loss: 1.6004\n",
      "Epoch 18/20\n",
      "\u001b[1m92/92\u001b[0m \u001b[32m━━━━━━━━━━━━━━━━━━━━\u001b[0m\u001b[37m\u001b[0m \u001b[1m139s\u001b[0m 2s/step - accuracy: 0.2395 - loss: 1.5988 - val_accuracy: 0.2445 - val_loss: 1.6002\n",
      "Epoch 19/20\n",
      "\u001b[1m92/92\u001b[0m \u001b[32m━━━━━━━━━━━━━━━━━━━━\u001b[0m\u001b[37m\u001b[0m \u001b[1m144s\u001b[0m 2s/step - accuracy: 0.2480 - loss: 1.5992 - val_accuracy: 0.2445 - val_loss: 1.6009\n",
      "Epoch 20/20\n",
      "\u001b[1m92/92\u001b[0m \u001b[32m━━━━━━━━━━━━━━━━━━━━\u001b[0m\u001b[37m\u001b[0m \u001b[1m145s\u001b[0m 2s/step - accuracy: 0.2407 - loss: 1.6037 - val_accuracy: 0.2445 - val_loss: 1.6000\n"
     ]
    },
    {
     "data": {
      "text/plain": [
       "<keras.src.callbacks.history.History at 0x29218c74bc0>"
      ]
     },
     "execution_count": 16,
     "metadata": {},
     "output_type": "execute_result"
    }
   ],
   "source": [
    "model.fit(train_data_gen,epochs=20,validation_data=validation_data_gen)"
   ]
  },
  {
   "cell_type": "code",
   "execution_count": 19,
   "id": "93aef144-e987-47c1-bf17-f4643f294e2a",
   "metadata": {},
   "outputs": [
    {
     "name": "stderr",
     "output_type": "stream",
     "text": [
      "WARNING:absl:You are saving your model as an HDF5 file via `model.save()` or `keras.saving.save_model(model)`. This file format is considered legacy. We recommend using instead the native Keras format, e.g. `model.save('my_model.keras')` or `keras.saving.save_model(model, 'my_model.keras')`. \n"
     ]
    }
   ],
   "source": [
    "model.save('model.h5')"
   ]
  },
  {
   "cell_type": "code",
   "execution_count": 20,
   "id": "2e49ff6f-f8d6-4cbe-9e96-94d7899ab98a",
   "metadata": {},
   "outputs": [
    {
     "name": "stderr",
     "output_type": "stream",
     "text": [
      "C:\\Users\\mithu\\anaconda3\\Lib\\site-packages\\keras\\src\\layers\\convolutional\\base_conv.py:107: UserWarning: Do not pass an `input_shape`/`input_dim` argument to a layer. When using Sequential models, prefer using an `Input(shape)` object as the first layer in the model instead.\n",
      "  super().__init__(activity_regularizer=activity_regularizer, **kwargs)\n"
     ]
    }
   ],
   "source": [
    "model=models.Sequential([\n",
    "    layers.Conv2D(32,(3,3),activation=\"relu\",input_shape=(224,224,3)),\n",
    "    layers.MaxPool2D((2,2)),\n",
    "    layers.Dropout(0.2),\n",
    "\n",
    "    layers.Conv2D(64,(3,3),activation=\"relu\"),\n",
    "    layers.MaxPool2D((2,2)),\n",
    "    layers.Dropout(0.3),\n",
    "\n",
    "    layers.Conv2D(128,(3,3),activation=\"relu\"),\n",
    "    layers.MaxPool2D((2,2)),\n",
    "    layers.Dropout(0.4),\n",
    "    #layers.GlobalAveragePooling2D(),\n",
    "    #layers.Dropout(0.2),\n",
    "    layers.Flatten(),\n",
    "    layers.Dense(512,activation=\"relu\"),\n",
    "    layers.Dropout(0.2),\n",
    "    layers.Dense(5,activation=\"softmax\")\n",
    "])"
   ]
  },
  {
   "cell_type": "code",
   "execution_count": 21,
   "id": "90e58c70-5444-4cd6-992f-660229d8dca3",
   "metadata": {},
   "outputs": [],
   "source": [
    "model.compile(optimizer=\"adam\",loss=\"categorical_crossentropy\",metrics=[\"accuracy\"])"
   ]
  },
  {
   "cell_type": "code",
   "execution_count": 22,
   "id": "9c7d29ee-35b3-4473-b34f-76c832f60986",
   "metadata": {},
   "outputs": [
    {
     "name": "stdout",
     "output_type": "stream",
     "text": [
      "Epoch 1/10\n",
      "\u001b[1m92/92\u001b[0m \u001b[32m━━━━━━━━━━━━━━━━━━━━\u001b[0m\u001b[37m\u001b[0m \u001b[1m175s\u001b[0m 2s/step - accuracy: 0.2403 - loss: 2.8922 - val_accuracy: 0.3238 - val_loss: 1.4977\n",
      "Epoch 2/10\n",
      "\u001b[1m92/92\u001b[0m \u001b[32m━━━━━━━━━━━━━━━━━━━━\u001b[0m\u001b[37m\u001b[0m \u001b[1m271s\u001b[0m 3s/step - accuracy: 0.3025 - loss: 1.4937 - val_accuracy: 0.3142 - val_loss: 1.4760\n",
      "Epoch 3/10\n",
      "\u001b[1m92/92\u001b[0m \u001b[32m━━━━━━━━━━━━━━━━━━━━\u001b[0m\u001b[37m\u001b[0m \u001b[1m201s\u001b[0m 2s/step - accuracy: 0.3573 - loss: 1.4060 - val_accuracy: 0.4508 - val_loss: 1.3273\n",
      "Epoch 4/10\n",
      "\u001b[1m92/92\u001b[0m \u001b[32m━━━━━━━━━━━━━━━━━━━━\u001b[0m\u001b[37m\u001b[0m \u001b[1m219s\u001b[0m 2s/step - accuracy: 0.5014 - loss: 1.1945 - val_accuracy: 0.5328 - val_loss: 1.1184\n",
      "Epoch 5/10\n",
      "\u001b[1m92/92\u001b[0m \u001b[32m━━━━━━━━━━━━━━━━━━━━\u001b[0m\u001b[37m\u001b[0m \u001b[1m205s\u001b[0m 2s/step - accuracy: 0.5679 - loss: 1.0632 - val_accuracy: 0.5615 - val_loss: 1.0620\n",
      "Epoch 6/10\n",
      "\u001b[1m92/92\u001b[0m \u001b[32m━━━━━━━━━━━━━━━━━━━━\u001b[0m\u001b[37m\u001b[0m \u001b[1m206s\u001b[0m 2s/step - accuracy: 0.5840 - loss: 1.0025 - val_accuracy: 0.5806 - val_loss: 1.0434\n",
      "Epoch 7/10\n",
      "\u001b[1m92/92\u001b[0m \u001b[32m━━━━━━━━━━━━━━━━━━━━\u001b[0m\u001b[37m\u001b[0m \u001b[1m206s\u001b[0m 2s/step - accuracy: 0.5952 - loss: 1.0023 - val_accuracy: 0.5833 - val_loss: 1.0499\n",
      "Epoch 8/10\n",
      "\u001b[1m92/92\u001b[0m \u001b[32m━━━━━━━━━━━━━━━━━━━━\u001b[0m\u001b[37m\u001b[0m \u001b[1m197s\u001b[0m 2s/step - accuracy: 0.6122 - loss: 0.9660 - val_accuracy: 0.6052 - val_loss: 1.0165\n",
      "Epoch 9/10\n",
      "\u001b[1m92/92\u001b[0m \u001b[32m━━━━━━━━━━━━━━━━━━━━\u001b[0m\u001b[37m\u001b[0m \u001b[1m204s\u001b[0m 2s/step - accuracy: 0.6682 - loss: 0.8896 - val_accuracy: 0.6230 - val_loss: 1.0047\n",
      "Epoch 10/10\n",
      "\u001b[1m92/92\u001b[0m \u001b[32m━━━━━━━━━━━━━━━━━━━━\u001b[0m\u001b[37m\u001b[0m \u001b[1m203s\u001b[0m 2s/step - accuracy: 0.6534 - loss: 0.9021 - val_accuracy: 0.6421 - val_loss: 0.9118\n"
     ]
    },
    {
     "data": {
      "text/plain": [
       "<keras.src.callbacks.history.History at 0x2921c3ef620>"
      ]
     },
     "execution_count": 22,
     "metadata": {},
     "output_type": "execute_result"
    }
   ],
   "source": [
    "model.fit(train_data_gen,epochs=10,validation_data=validation_data_gen)"
   ]
  },
  {
   "cell_type": "code",
   "execution_count": 24,
   "id": "7dfe60df-f623-4c65-9c56-8fe518a3c973",
   "metadata": {},
   "outputs": [
    {
     "name": "stderr",
     "output_type": "stream",
     "text": [
      "WARNING:absl:You are saving your model as an HDF5 file via `model.save()` or `keras.saving.save_model(model)`. This file format is considered legacy. We recommend using instead the native Keras format, e.g. `model.save('my_model.keras')` or `keras.saving.save_model(model, 'my_model.keras')`. \n"
     ]
    }
   ],
   "source": [
    "model.save('modell.h5')"
   ]
  },
  {
   "cell_type": "code",
   "execution_count": null,
   "id": "223d426a-6970-4cfc-b38e-2306f55be5ff",
   "metadata": {},
   "outputs": [],
   "source": []
  },
  {
   "cell_type": "code",
   "execution_count": null,
   "id": "ac695a86-0509-4d04-9ae8-7747bbe52eb9",
   "metadata": {},
   "outputs": [],
   "source": []
  }
 ],
 "metadata": {
  "kernelspec": {
   "display_name": "Python 3 (ipykernel)",
   "language": "python",
   "name": "python3"
  },
  "language_info": {
   "codemirror_mode": {
    "name": "ipython",
    "version": 3
   },
   "file_extension": ".py",
   "mimetype": "text/x-python",
   "name": "python",
   "nbconvert_exporter": "python",
   "pygments_lexer": "ipython3",
   "version": "3.12.4"
  }
 },
 "nbformat": 4,
 "nbformat_minor": 5
}
